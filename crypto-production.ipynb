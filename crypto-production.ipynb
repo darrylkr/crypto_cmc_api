{
 "cells": [
  {
   "cell_type": "code",
   "execution_count": 1,
   "metadata": {
    "ExecuteTime": {
     "end_time": "2022-08-02T16:58:14.724317Z",
     "start_time": "2022-08-02T16:58:14.273216Z"
    }
   },
   "outputs": [],
   "source": [
    "from requests import Request, Session\n",
    "from requests.exceptions import ConnectionError, Timeout, TooManyRedirects\n",
    "import json\n",
    "import datetime\n",
    "import time\n",
    "import numpy as np\n",
    "import pandas as pd\n",
    "import schedule\n",
    "import keys"
   ]
  },
  {
   "cell_type": "code",
   "execution_count": 2,
   "metadata": {
    "ExecuteTime": {
     "end_time": "2022-08-02T16:58:14.754482Z",
     "start_time": "2022-08-02T16:58:14.744479Z"
    }
   },
   "outputs": [],
   "source": [
    "def get_date(date):\n",
    "    year = int(date[0:4])\n",
    "    month = int(date[5:7])\n",
    "    day = int(date[8:10])\n",
    "    return datetime.date(year,month,day)"
   ]
  },
  {
   "cell_type": "code",
   "execution_count": 3,
   "metadata": {
    "ExecuteTime": {
     "end_time": "2022-08-02T16:58:15.114852Z",
     "start_time": "2022-08-02T16:58:15.104850Z"
    }
   },
   "outputs": [],
   "source": [
    "def get_time(time):\n",
    "    hour = int(time[11:13])\n",
    "    minute = int(time[14:16])\n",
    "    second = int(time[17:19])\n",
    "    return datetime.time(hour,minute,second)"
   ]
  },
  {
   "cell_type": "code",
   "execution_count": 4,
   "metadata": {
    "ExecuteTime": {
     "end_time": "2022-08-02T16:58:15.491670Z",
     "start_time": "2022-08-02T16:58:15.480667Z"
    }
   },
   "outputs": [],
   "source": [
    "def get_age(date):\n",
    "    now = datetime.datetime.now().date()\n",
    "    return (now.year - date.year) * 12 + now.month - date.month"
   ]
  },
  {
   "cell_type": "code",
   "execution_count": 5,
   "metadata": {
    "ExecuteTime": {
     "end_time": "2022-08-02T16:58:15.788786Z",
     "start_time": "2022-08-02T16:58:15.784784Z"
    }
   },
   "outputs": [],
   "source": [
    "def get_listDF():\n",
    "    with open('listDF.txt', 'r', encoding=\"utf-8\") as f:\n",
    "        listDF = eval(f.read())\n",
    "    return listDF"
   ]
  },
  {
   "cell_type": "code",
   "execution_count": 6,
   "metadata": {
    "ExecuteTime": {
     "end_time": "2022-08-02T16:58:16.055873Z",
     "start_time": "2022-08-02T16:58:16.048871Z"
    }
   },
   "outputs": [],
   "source": [
    "def save_listDF(listDF):\n",
    "    with open('listDF.txt', 'w+', encoding=\"utf-8\") as f:\n",
    "        f.write(str(listDF))"
   ]
  },
  {
   "cell_type": "code",
   "execution_count": 7,
   "metadata": {
    "ExecuteTime": {
     "end_time": "2022-08-02T16:58:16.350972Z",
     "start_time": "2022-08-02T16:58:16.344970Z"
    }
   },
   "outputs": [],
   "source": [
    "def get_job():\n",
    "    with open('job.txt', 'r', encoding=\"utf-8\") as f:\n",
    "        job = eval(f.read())\n",
    "    return job"
   ]
  },
  {
   "cell_type": "code",
   "execution_count": 8,
   "metadata": {
    "ExecuteTime": {
     "end_time": "2022-08-02T16:58:17.475967Z",
     "start_time": "2022-08-02T16:58:17.472966Z"
    }
   },
   "outputs": [],
   "source": [
    "def save_job(job):\n",
    "    with open('job.txt', 'w+', encoding=\"utf-8\") as f:\n",
    "        f.write(str(job))"
   ]
  },
  {
   "cell_type": "code",
   "execution_count": 9,
   "metadata": {
    "ExecuteTime": {
     "end_time": "2022-08-02T16:58:17.949145Z",
     "start_time": "2022-08-02T16:58:17.944143Z"
    }
   },
   "outputs": [],
   "source": [
    "columns = ['id', 'rank', 'name', 'ticker', 'price', 'price_1h', 'price_24h', 'price_7d', 'price_30d', 'price_90d', 'marketcap', 'dominance', 'diluted_cap', 'volume24h', 'volume24_dollar', 'volume24_token', 'volume24_mrkt_pct', 'circulating', 'circulating_w_missing', 'max_supply', 'pairs', 'tags', 'platform', 'date_added', 'age', 'update_date', 'update_time']"
   ]
  },
  {
   "cell_type": "code",
   "execution_count": 10,
   "metadata": {
    "ExecuteTime": {
     "end_time": "2022-05-24T16:09:14.756468Z",
     "start_time": "2022-05-24T16:09:14.749466Z"
    }
   },
   "outputs": [],
   "source": [
    "#row = [ID, rank, name, ticker, price, pricepercent_1h, pricepercent_24h, pricepercent_7d, pricepercent_30d, pricepercent_90d, marketcap, marketcap_dominance, diluted_marketcap, volume24_percent, volume24_money, volume24_token, volume24_market_percent, circulating, circulating_w_missing, max_supply, pairs, tag, platform, date_added, age, update_date, update_time]"
   ]
  },
  {
   "cell_type": "code",
   "execution_count": 10,
   "metadata": {
    "ExecuteTime": {
     "end_time": "2022-08-02T16:59:17.067548Z",
     "start_time": "2022-08-02T16:59:17.056547Z"
    }
   },
   "outputs": [],
   "source": [
    "firstRow = [np.zeros(27)]"
   ]
  },
  {
   "cell_type": "code",
   "execution_count": 11,
   "metadata": {
    "ExecuteTime": {
     "end_time": "2022-08-02T16:59:19.892834Z",
     "start_time": "2022-08-02T16:59:19.880831Z"
    }
   },
   "outputs": [],
   "source": [
    "job = []\n",
    "listDF = []"
   ]
  },
  {
   "cell_type": "code",
   "execution_count": 12,
   "metadata": {
    "ExecuteTime": {
     "end_time": "2022-08-02T16:59:20.659746Z",
     "start_time": "2022-08-02T16:59:20.639742Z"
    }
   },
   "outputs": [],
   "source": [
    "def pull_job():\n",
    "    \n",
    "    #Rank 1 - 2500\n",
    "    url = 'https://pro-api.coinmarketcap.com/v1/cryptocurrency/listings/latest'\n",
    "    parameters = {\n",
    "      'start':'1',\n",
    "      'limit':'2500',\n",
    "      'convert':'USD'\n",
    "    }\n",
    "    headers = {\n",
    "      'Accepts': 'application/json',\n",
    "      'X-CMC_PRO_API_KEY': keys.api_key,\n",
    "    }\n",
    "\n",
    "    session = Session()\n",
    "    session.headers.update(headers)\n",
    "\n",
    "    try:\n",
    "        response = session.get(url, params=parameters)\n",
    "        data = json.loads(response.text)\n",
    "        global job\n",
    "\n",
    "        for attribute in data['data']:\n",
    "            ID = attribute['id']\n",
    "            rank = attribute['cmc_rank']\n",
    "            name = attribute['name']\n",
    "            ticker = attribute['symbol']\n",
    "            pairs = attribute['num_market_pairs']\n",
    "            date_added = get_date(attribute['date_added'])\n",
    "            age = get_age(date_added)\n",
    "            tag = attribute['tags']\n",
    "            max_supply = attribute['max_supply']\n",
    "            circulating = round(attribute['circulating_supply'])\n",
    "            circulating_w_missing = round(attribute['total_supply'])\n",
    "            if max_supply != None:\n",
    "                if max_supply != 0:\n",
    "                    max_supply = round(max_supply)\n",
    "                    supply_ratio = round(circulating_w_missing / max_supply,3)\n",
    "            else:\n",
    "                max_supply = 0\n",
    "                supply_ratio = None\n",
    "            platform = attribute['platform']\n",
    "            if platform != None:\n",
    "                platform = attribute['platform']['name']\n",
    "            else:\n",
    "                platform = ''\n",
    "            updateDateTime = attribute['last_updated']\n",
    "            update_date = get_date(updateDateTime)\n",
    "            update_time = get_time(updateDateTime)\n",
    "\n",
    "            #statics\n",
    "            price = attribute['quote']['USD']['price']\n",
    "            if price < 1:\n",
    "                if round(price, 10) == 0:\n",
    "                    price = round(price,20)\n",
    "                else:\n",
    "                    price = round(price,10)\n",
    "            else:\n",
    "                price = round(price,2)\n",
    "            marketcap = round(attribute['quote']['USD']['market_cap'])\n",
    "            volume24_money = round(attribute['quote']['USD']['volume_24h'])\n",
    "            volume24_token = round((volume24_money / price))\n",
    "            if marketcap > 0:\n",
    "                volume24_market_percent = round((volume24_money / marketcap),3)\n",
    "            else:\n",
    "                volume24_market_percent = 0\n",
    "\n",
    "            #changes\n",
    "            volume24_percent = round(attribute['quote']['USD']['volume_change_24h'],2)\n",
    "            pricepercent_1h = round(attribute['quote']['USD']['percent_change_1h'],2)\n",
    "            pricepercent_24h = round(attribute['quote']['USD']['percent_change_24h'],2)\n",
    "            pricepercent_7d = round(attribute['quote']['USD']['percent_change_7d'],2)\n",
    "            pricepercent_30d = round(attribute['quote']['USD']['percent_change_30d'],2)\n",
    "            pricepercent_90d = round(attribute['quote']['USD']['percent_change_90d'],2)\n",
    "            marketcap_dominance = round(attribute['quote']['USD']['market_cap_dominance'],3)\n",
    "            diluted_marketcap = round(attribute['quote']['USD']['fully_diluted_market_cap'])\n",
    "\n",
    "            row = [ID, rank, name, ticker, price, pricepercent_1h, pricepercent_24h, pricepercent_7d, pricepercent_30d, pricepercent_90d, marketcap, marketcap_dominance, diluted_marketcap, volume24_percent, volume24_money, volume24_token, volume24_market_percent, circulating, circulating_w_missing, max_supply, pairs, tag, platform, date_added, age, update_date, update_time]\n",
    "            job.append(row)\n",
    "            row = []\n",
    "\n",
    "        #timezone difference\n",
    "        myTime = datetime.datetime.now().strftime(\"%d/%m/%Y, %H:%M:%S\")\n",
    "        CMCTime = datetime.datetime(update_date.year, update_date.month, update_date.day, update_time.hour, update_time.minute, update_time.second).strftime(\"%d/%m/%Y, %H:%M:%S\")\n",
    "        print('Hourly pull at:\\nMy Time: {}\\nCMC Time: {}'.format(myTime, CMCTime))\n",
    "        print('len(job): {}'.format(len(job)))\n",
    "        print('----------------------------------')\n",
    "        dictionary = {'job': job, 'len(job)': len(job)}\n",
    "        save_job(dictionary)\n",
    "        \n",
    "    except (ConnectionError, Timeout, TooManyRedirects) as e:\n",
    "        print(e)"
   ]
  },
  {
   "cell_type": "code",
   "execution_count": 13,
   "metadata": {
    "ExecuteTime": {
     "end_time": "2022-08-02T16:59:21.470530Z",
     "start_time": "2022-08-02T16:59:21.464531Z"
    }
   },
   "outputs": [],
   "source": [
    "def update_db():\n",
    "    global job\n",
    "    global listDF\n",
    "    global cmc_csv\n",
    "    global df\n",
    "    \n",
    "    print('Updating DB:')\n",
    "    print('len(job): {}'.format(len(job)))\n",
    "    cmc_csv = pd.read_csv('cmc.csv')\n",
    "    listDF = cmc_csv.values.tolist()\n",
    "    listDF += job\n",
    "    print('len(listDF): {}'.format(len(listDF)))    \n",
    "\n",
    "    df = pd.DataFrame(data=listDF, columns=columns)\n",
    "    print('df.shape: {}'.format(df.shape))\n",
    "    df.to_csv('cmc.csv', index=False)\n",
    "    job = []\n",
    "    \n",
    "    dictionary_job = {'job': job,'len(job)': len(job)}\n",
    "    dictionary_listDF = {'listDF': listDF, 'len(listDF)': len(listDF)}\n",
    "    save_job(dictionary_job)\n",
    "    save_listDF(dictionary_listDF)\n",
    "    \n",
    "    print('Updated DB: {}'.format(datetime.datetime.now().strftime(\"%d/%m/%Y, %H:%M:%S\")))\n",
    "    print('--------------------------------------------')"
   ]
  },
  {
   "cell_type": "code",
   "execution_count": 14,
   "metadata": {
    "ExecuteTime": {
     "end_time": "2022-08-02T16:59:21.945513Z",
     "start_time": "2022-08-02T16:59:21.936511Z"
    }
   },
   "outputs": [
    {
     "data": {
      "text/plain": [
       "0"
      ]
     },
     "execution_count": 14,
     "metadata": {},
     "output_type": "execute_result"
    }
   ],
   "source": [
    "len(job)"
   ]
  },
  {
   "cell_type": "code",
   "execution_count": 15,
   "metadata": {
    "ExecuteTime": {
     "end_time": "2022-08-02T16:59:22.304485Z",
     "start_time": "2022-08-02T16:59:22.288482Z"
    }
   },
   "outputs": [
    {
     "data": {
      "text/plain": [
       "0"
      ]
     },
     "execution_count": 15,
     "metadata": {},
     "output_type": "execute_result"
    }
   ],
   "source": [
    "len(listDF)"
   ]
  },
  {
   "cell_type": "code",
   "execution_count": 16,
   "metadata": {
    "ExecuteTime": {
     "end_time": "2022-08-02T16:59:26.943191Z",
     "start_time": "2022-08-02T16:59:24.816421Z"
    }
   },
   "outputs": [
    {
     "name": "stdout",
     "output_type": "stream",
     "text": [
      "Hourly pull at:\n",
      "My Time: 03/08/2022, 00:59:26\n",
      "CMC Time: 02/08/2022, 16:57:00\n",
      "len(job): 2500\n",
      "----------------------------------\n"
     ]
    }
   ],
   "source": [
    "pull_job()"
   ]
  },
  {
   "cell_type": "code",
   "execution_count": 17,
   "metadata": {
    "ExecuteTime": {
     "end_time": "2022-08-02T16:59:29.850336Z",
     "start_time": "2022-08-02T16:59:29.704304Z"
    }
   },
   "outputs": [
    {
     "name": "stdout",
     "output_type": "stream",
     "text": [
      "Updating DB:\n",
      "len(job): 2500\n",
      "len(listDF): 5001\n",
      "df.shape: (5001, 27)\n",
      "Updated DB: 03/08/2022, 00:59:29\n",
      "--------------------------------------------\n"
     ]
    }
   ],
   "source": [
    "update_db()"
   ]
  },
  {
   "cell_type": "code",
   "execution_count": 18,
   "metadata": {
    "ExecuteTime": {
     "end_time": "2022-08-02T16:59:30.784167Z",
     "start_time": "2022-08-02T16:59:30.776166Z"
    }
   },
   "outputs": [
    {
     "data": {
      "text/plain": [
       "Every 1 day at 07:30:00 do update_db() (last run: [never], next run: 2022-08-03 07:30:00)"
      ]
     },
     "execution_count": 18,
     "metadata": {},
     "output_type": "execute_result"
    }
   ],
   "source": [
    "schedule.every().hour.at(\"02:00\").do(pull_job)\n",
    "schedule.every().day.at(\"07:30\").do(update_db)"
   ]
  },
  {
   "cell_type": "code",
   "execution_count": 19,
   "metadata": {
    "ExecuteTime": {
     "end_time": "2022-08-02T16:59:31.573198Z",
     "start_time": "2022-08-02T16:59:31.568197Z"
    },
    "scrolled": true
   },
   "outputs": [
    {
     "data": {
      "text/plain": [
       "[Every 1 hour at 00:02:00 do pull_job() (last run: [never], next run: 2022-08-03 01:02:00),\n",
       " Every 1 day at 07:30:00 do update_db() (last run: [never], next run: 2022-08-03 07:30:00)]"
      ]
     },
     "execution_count": 19,
     "metadata": {},
     "output_type": "execute_result"
    }
   ],
   "source": [
    "schedule.get_jobs()"
   ]
  },
  {
   "cell_type": "code",
   "execution_count": 20,
   "metadata": {
    "ExecuteTime": {
     "end_time": "2022-08-02T16:59:45.092492Z",
     "start_time": "2022-08-02T16:59:45.079488Z"
    }
   },
   "outputs": [],
   "source": [
    "schedule.clear()"
   ]
  },
  {
   "cell_type": "code",
   "execution_count": null,
   "metadata": {
    "ExecuteTime": {
     "end_time": "2022-08-02T16:59:50.889721Z",
     "start_time": "2022-08-02T16:59:47.552575Z"
    },
    "scrolled": true
   },
   "outputs": [],
   "source": [
    "# Loop so that the scheduling task\n",
    "# keeps on running all time.\n",
    "while True:\n",
    "  \n",
    "    # Checks whether a scheduled task \n",
    "    # is pending to run or not\n",
    "    schedule.run_pending()\n",
    "    time.sleep(1)"
   ]
  }
 ],
 "metadata": {
  "kernelspec": {
   "display_name": "Python 3 (ipykernel)",
   "language": "python",
   "name": "python3"
  },
  "language_info": {
   "codemirror_mode": {
    "name": "ipython",
    "version": 3
   },
   "file_extension": ".py",
   "mimetype": "text/x-python",
   "name": "python",
   "nbconvert_exporter": "python",
   "pygments_lexer": "ipython3",
   "version": "3.8.12"
  }
 },
 "nbformat": 4,
 "nbformat_minor": 4
}
